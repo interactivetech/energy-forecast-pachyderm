{
 "cells": [
  {
   "cell_type": "markdown",
   "id": "fce1e4f5-63e2-4a7d-9c55-e09e2129a85a",
   "metadata": {},
   "source": [
    "# Part 2: Time Series Forecasting with the HPE Machine Learning Development Environment\n",
    "author: Andrew Mendez, andrew.mendez@hpe.com\n",
    "\n",
    "Version: 0.0.1\n",
    "\n",
    "Date: 3.14.23\n",
    "\n",
    "In this notebook, we create an end-to-end MLOPs pipeline to train and deploy a deep learning model for time series forecasting. This model specifically forecasting energy demand."
   ]
  },
  {
   "cell_type": "code",
   "execution_count": 1,
   "id": "bda0db82-e2e3-4479-874a-fe4f4e9c34f4",
   "metadata": {},
   "outputs": [
    {
     "name": "stdout",
     "output_type": "stream",
     "text": [
      "Context 'pachd-peer.pachyderm.svc.cluster.local:30653' set as active\n",
      "ACTIVE PROJECT                    CREATED       DESCRIPTION\n",
      "       pipeline-finbert           10 months ago Tyler - Legacy FinBERT PDK Demo\n",
      "       pipeline-hpe-fsi-retrieval 9 months ago  Tyler - PDK demo of for HPE FSI RAG/Retrieval Demo\n",
      "       pdk-dogs-and-cats          6 months ago  Tyler - Legacy Brain Dogs and Cats Demo\n",
      "       pdk-brain-mri              6 months ago  Tyler - Legacy Brain MRI PDK Demo\n",
      "       starcoder                  5 months ago  Tyler - A fine-tuned version of the huggingface starcoder model with titanML serving\n",
      "       playground_tp              5 months ago  Tanguy -  Pachyderm tutorial\n",
      "       object-detection-demo      4 months ago  -\n",
      "       Test-TensorRT-LLM          4 months ago  Tanguy - Testing model optimization with TensorRT-LLM and deployment with Triton\n",
      "       deploy-rag                 3 months ago  -\n",
      "       deploy-rag-finetune        3 months ago  -\n",
      "       test-catdog-pipe-test      3 months ago  -\n",
      "       north-pole                 2 months ago  -\n",
      "       brain-mri-workshop         2 months ago  -\n",
      "       deploy-rag-finetune2       7 weeks ago   -\n",
      "       pdk-sql-llm                7 weeks ago   -\n",
      "       denisd-text-to-sql         5 weeks ago   Text to SQL LLM Demo\n",
      "       default                    5 weeks ago   -\n",
      "       denisd-deploy-rag          5 weeks ago   -\n",
      "       pdk-3d-brain-mri           5 weeks ago   Alejandro - 3D Brain MRI Project\n",
      "       car-manual-rag             4 weeks ago   Cyrill's project\n",
      "       opencv-demo                2 weeks ago   OpenCV\n",
      "       guardrails_test            2 weeks ago   -\n",
      "       danielc-deploy-rag         10 days ago   -\n",
      "*      energy-forecasting         8 days ago    -\n",
      "       pdf-rag                    25 hours ago  Tyler\n",
      "       SID                        18 hours ago  Cybersecurity Demo\n",
      "\n"
     ]
    }
   ],
   "source": [
    "# Connect to deployed pachyderm application\n",
    "!pachctl connect pachd-peer.pachyderm.svc.cluster.local:30653\n",
    "# list current projects\n",
    "!pachctl list project"
   ]
  },
  {
   "cell_type": "code",
   "execution_count": 2,
   "id": "0ae2dd6a-7a27-431f-a989-5ca2bc0a6452",
   "metadata": {},
   "outputs": [
    {
     "name": "stdout",
     "output_type": "stream",
     "text": [
      "pachd-peer.pachyderm.svc.cluster.local:30653\n"
     ]
    }
   ],
   "source": [
    "!pachctl config get active-context"
   ]
  },
  {
   "cell_type": "code",
   "execution_count": 3,
   "id": "61a3c959-5173-4217-9cd2-65c766b23ee9",
   "metadata": {},
   "outputs": [
    {
     "name": "stdout",
     "output_type": "stream",
     "text": [
      "COMPONENT           VERSION             \n",
      "pachctl             2.9.0               \n",
      "pachd               2.9.0               \n"
     ]
    }
   ],
   "source": [
    "!pachctl version"
   ]
  },
  {
   "cell_type": "code",
   "execution_count": 4,
   "id": "b35838b1-a7c0-4324-91eb-c895cc49355b",
   "metadata": {},
   "outputs": [
    {
     "name": "stdout",
     "output_type": "stream",
     "text": [
      "project \"energy-forecasting\" already exists\n",
      "project energy-forecasting already exists\n",
      "editing the currently active context \"pachd-peer.pachyderm.svc.cluster.local:30653\"\n"
     ]
    }
   ],
   "source": [
    "# Create Pachyderm application\n",
    "!pachctl create project energy-forecasting\n",
    "# Set pachctl's active context to the deploy-rag project\n",
    "!pachctl config update context --project energy-forecasting"
   ]
  },
  {
   "cell_type": "code",
   "execution_count": 5,
   "id": "b1dca19a-48d0-4e9c-9b50-9c1cbca5c163",
   "metadata": {},
   "outputs": [],
   "source": [
    "# !wget https://raw.githubusercontent.com/unit8co/darts/master/datasets/energy_dataset.csv"
   ]
  },
  {
   "cell_type": "code",
   "execution_count": 6,
   "id": "4cf694ad-d2d8-4993-b7a9-30b6fc983f64",
   "metadata": {},
   "outputs": [],
   "source": [
    "!pachctl create repo data"
   ]
  },
  {
   "cell_type": "code",
   "execution_count": 7,
   "id": "5b3cc8be-a47b-40b8-8b8c-bc62b13d241c",
   "metadata": {},
   "outputs": [],
   "source": [
    "!pachctl create repo code"
   ]
  },
  {
   "cell_type": "code",
   "execution_count": 8,
   "id": "fc3495a6-3611-4830-8fc1-04d081af14df",
   "metadata": {},
   "outputs": [],
   "source": [
    "!pachctl create repo model"
   ]
  },
  {
   "cell_type": "code",
   "execution_count": 9,
   "id": "2e2209fa-f08f-43a3-a49c-35ba2751f36d",
   "metadata": {},
   "outputs": [
    {
     "name": "stdout",
     "output_type": "stream",
     "text": [
      "models/TCN_model.pt 641.99 KB / 641.99 KB [========================] 0s 0.00 b/s\n",
      "\u001b[1A\u001b[Jmodels/TCN_model.pt 641.99 KB / 641.99 KB [========================] 0s 0.00 b/s\n",
      "\u001b[1A\u001b[Jmodels/TCN_model.pt 641.99 KB / 641.99 KB [========================] 0s 0.00 b/s\n",
      "models/TCN_model.pt.ckpt 169.73 KB / 169.73 KB [===================] 0s 0.00 b/s\n",
      "\u001b[1A\u001b[Jmodels/TCN_model.pt.ckpt 169.73 KB / 169.73 KB [===================] 0s 0.00 b/s\n",
      "\u001b[1A\u001b[Jmodels/TCN_model.pt.ckpt 169.73 KB / 169.73 KB [===================] 0s 0.00 b/s\n"
     ]
    }
   ],
   "source": [
    "!pachctl put file model@master: -r -f models/TCN_model.pt\n",
    "!pachctl put file model@master: -r -f models/TCN_model.pt.ckpt"
   ]
  },
  {
   "cell_type": "code",
   "execution_count": 10,
   "id": "3ea73595-2dde-4e12-99d2-e9ce3b3eef7e",
   "metadata": {},
   "outputs": [],
   "source": [
    "%%capture\n",
    "!pachctl put file data@master: -r -f data/energy_dataset.csv"
   ]
  },
  {
   "cell_type": "code",
   "execution_count": 11,
   "id": "2ed64d58-a89d-4e88-8044-22ccac49336b",
   "metadata": {},
   "outputs": [],
   "source": [
    "%%capture\n",
    "!pachctl put file code@master: -r -f code/"
   ]
  },
  {
   "cell_type": "markdown",
   "id": "a4f47a1b-2c15-4d45-81f5-f3c3fcbecf20",
   "metadata": {},
   "source": [
    "## Process"
   ]
  },
  {
   "cell_type": "code",
   "execution_count": 12,
   "id": "da4bec45-0938-4c34-8a82-8f06d5eb6917",
   "metadata": {},
   "outputs": [
    {
     "name": "stdout",
     "output_type": "stream",
     "text": [
      "Overwriting process.yaml\n"
     ]
    }
   ],
   "source": [
    "%%writefile process.yaml\n",
    "pipeline:\n",
    "    name: 'process'\n",
    "description: 'Extract content in xml files to a csv file'\n",
    "input:\n",
    "    cross:\n",
    "        - pfs: \n",
    "            repo: 'data'\n",
    "            branch: 'master'\n",
    "            glob: '/'\n",
    "        - pfs: \n",
    "            repo: 'code'\n",
    "            branch: 'master'\n",
    "            glob: '/'\n",
    "transform:\n",
    "    image: mendeza/python38_process:0.2\n",
    "    cmd: \n",
    "        - '/bin/sh'\n",
    "    stdin: \n",
    "    # - \"while :; do echo 'Hello'; sleep 5 ; done\"\n",
    "    - 'pip install darts;'\n",
    "    - 'bash /pfs/code/code/scripts/process.sh'\n",
    "autoscaling: False"
   ]
  },
  {
   "cell_type": "code",
   "execution_count": 13,
   "id": "6036ed51-7188-479b-b7e3-ec099c2f3870",
   "metadata": {},
   "outputs": [],
   "source": [
    "!pachctl create pipeline -f process.yaml"
   ]
  },
  {
   "cell_type": "markdown",
   "id": "bc802fe1-5097-42fe-9373-e63ac5bfb99b",
   "metadata": {},
   "source": [
    "# Train"
   ]
  },
  {
   "cell_type": "code",
   "execution_count": 14,
   "id": "adf2d37b-eb6d-4b66-8ad9-df9e9353d56f",
   "metadata": {},
   "outputs": [
    {
     "name": "stdout",
     "output_type": "stream",
     "text": [
      "Overwriting train.yaml\n"
     ]
    }
   ],
   "source": [
    "%%writefile train.yaml\n",
    "pipeline:\n",
    "    name: 'train'\n",
    "description: 'Extract content in xml files to a csv file'\n",
    "input:\n",
    "    cross:\n",
    "        - pfs: \n",
    "            repo: 'process'\n",
    "            branch: 'master'\n",
    "            glob: '/'\n",
    "        - pfs: \n",
    "            repo: 'code'\n",
    "            branch: 'master'\n",
    "            glob: '/'\n",
    "        - pfs: \n",
    "            repo: 'model'\n",
    "            branch: 'master'\n",
    "            glob: '/'\n",
    "transform:\n",
    "    image: mendeza/python38_process:0.2\n",
    "    cmd: \n",
    "        - '/bin/sh'\n",
    "    stdin: \n",
    "    # - \"while :; do echo 'Hello'; sleep 5 ; done\"\n",
    "    - 'pip install darts'\n",
    "    - 'bash /pfs/code/code/scripts/train.sh'\n",
    "autoscaling: False"
   ]
  },
  {
   "cell_type": "code",
   "execution_count": 15,
   "id": "7a6b4e40-8890-4306-9c59-4b93f50db16e",
   "metadata": {},
   "outputs": [],
   "source": [
    "!pachctl create pipeline -f train.yaml"
   ]
  },
  {
   "cell_type": "markdown",
   "id": "eb9222da-30c6-409a-a05a-7af38346c3b6",
   "metadata": {},
   "source": [
    "## Validate"
   ]
  },
  {
   "cell_type": "code",
   "execution_count": 16,
   "id": "e678433f-1696-42c0-9de9-d54a7dfc6064",
   "metadata": {},
   "outputs": [
    {
     "name": "stdout",
     "output_type": "stream",
     "text": [
      "Overwriting val.yaml\n"
     ]
    }
   ],
   "source": [
    "%%writefile val.yaml\n",
    "pipeline:\n",
    "    name: 'val'\n",
    "description: 'Extract content in xml files to a csv file'\n",
    "input:\n",
    "    cross:\n",
    "        - pfs: \n",
    "            repo: 'process'\n",
    "            branch: 'master'\n",
    "            glob: '/'\n",
    "        - pfs: \n",
    "            repo: 'train'\n",
    "            branch: 'master'\n",
    "            glob: '/'\n",
    "        - pfs: \n",
    "            repo: 'code'\n",
    "            branch: 'master'\n",
    "            glob: '/'\n",
    "transform:\n",
    "    image: mendeza/python38_process:0.2\n",
    "    cmd: \n",
    "        - '/bin/sh'\n",
    "    stdin:\n",
    "    # - \"while :; do echo 'Hello'; sleep 5 ; done\"\n",
    "    - 'pip install darts'\n",
    "    - 'bash /pfs/code/code/scripts/val.sh'\n",
    "autoscaling: False"
   ]
  },
  {
   "cell_type": "code",
   "execution_count": 17,
   "id": "a96bb2c9-e86f-45a2-9ced-0ad179b9b7c8",
   "metadata": {},
   "outputs": [],
   "source": [
    "!pachctl create pipeline -f val.yaml"
   ]
  },
  {
   "cell_type": "markdown",
   "id": "6d8e4484-9b56-4f6c-9a6d-e65bbe792983",
   "metadata": {},
   "source": [
    "## Retrain end to end with new data"
   ]
  },
  {
   "cell_type": "code",
   "execution_count": null,
   "id": "eae7a969-6717-479c-841b-b2fef54ce982",
   "metadata": {},
   "outputs": [],
   "source": [
    "%%capture\n",
    "!pachctl put file data@master: -r -f data/energy_dataset2.csv"
   ]
  },
  {
   "cell_type": "markdown",
   "id": "b603953d-dba9-4abb-855b-6785bdf8043d",
   "metadata": {},
   "source": [
    "# Clean up Environment"
   ]
  },
  {
   "cell_type": "code",
   "execution_count": null,
   "id": "18a9b0c1-d890-4afd-98d9-a85cfd6e7d99",
   "metadata": {},
   "outputs": [],
   "source": [
    "!pachctl delete pipeline val\n",
    "!pachctl delete pipeline train\n",
    "!pachctl delete pipeline process\n",
    "!pachctl delete repo data\n",
    "!pachctl delete repo code\n",
    "!pachctl delete repo model"
   ]
  }
 ],
 "metadata": {
  "kernelspec": {
   "display_name": "Python 3 (ipykernel)",
   "language": "python",
   "name": "python3"
  },
  "language_info": {
   "codemirror_mode": {
    "name": "ipython",
    "version": 3
   },
   "file_extension": ".py",
   "mimetype": "text/x-python",
   "name": "python",
   "nbconvert_exporter": "python",
   "pygments_lexer": "ipython3",
   "version": "3.8.18"
  }
 },
 "nbformat": 4,
 "nbformat_minor": 5
}
